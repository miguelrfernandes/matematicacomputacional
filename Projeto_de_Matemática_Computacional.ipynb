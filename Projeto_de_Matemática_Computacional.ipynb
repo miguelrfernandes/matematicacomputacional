{
  "nbformat": 4,
  "nbformat_minor": 0,
  "metadata": {
    "colab": {
      "name": "Projeto de Matemática Computacional.ipynb",
      "provenance": [],
      "collapsed_sections": [
        "uHS_ytBbWYRA",
        "3xWkVMfD4At7"
      ],
      "machine_shape": "hm",
      "include_colab_link": true
    },
    "kernelspec": {
      "name": "python3",
      "display_name": "Python 3"
    },
    "accelerator": "GPU"
  },
  "cells": [
    {
      "cell_type": "markdown",
      "metadata": {
        "id": "view-in-github",
        "colab_type": "text"
      },
      "source": [
        "<a href=\"https://colab.research.google.com/github/thechefmiguel/matematicacomputacional/blob/master/Projeto_de_Matem%C3%A1tica_Computacional.ipynb\" target=\"_parent\"><img src=\"https://colab.research.google.com/assets/colab-badge.svg\" alt=\"Open In Colab\"/></a>"
      ]
    },
    {
      "cell_type": "markdown",
      "metadata": {
        "id": "JG9FQcSqfOYC",
        "colab_type": "text"
      },
      "source": [
        "# **Parte I** "
      ]
    },
    {
      "cell_type": "markdown",
      "metadata": {
        "id": "OexX__ER7NUK",
        "colab_type": "text"
      },
      "source": [
        "## Exercício 1. Implementação do Método de Steffensen\n",
        "\n",
        "### **Exercício 1. c)**\n",
        "\n",
        "O critério de paragem que impõe a tolerância de erro ε é ε < |x_n - x_n+1|.\n",
        "\n",
        "\n",
        "\n"
      ]
    },
    {
      "cell_type": "code",
      "metadata": {
        "id": "_B6wU-Iw-T5a",
        "colab_type": "code",
        "colab": {}
      },
      "source": [
        "def steffensen(f, x0, M, e):  # implementação do método de Steffensen\n",
        "  x=[float(x0)] # conjunto das iteradas com a iterada inicial\n",
        "  print ('Iterada n.º 0: %s' %(str(x[0])))\n",
        "\n",
        "  def iteracao(x,f): # iteração do método\n",
        "    return float(x - (f(x))**2.0 / (f(x+f(x)) - f(x)))\n",
        "\n",
        "  for i in range(1, M+1): #ciclo iterativo\n",
        "    x+=[iteracao(x[-1],f)] # nova iteração\n",
        "    erro = abs(x[-1]-x[-2]) # cálculo do erro\n",
        "    print ('Iterada n.º %s: %s, Erro: %s' %(str(i), str(x[-1]), str(erro)))\n",
        "    if erro<e: # verifica se o erro é menor que a tolerância\n",
        "      break # se sim pára o ciclo\n",
        "  return x"
      ],
      "execution_count": 0,
      "outputs": []
    },
    {
      "cell_type": "code",
      "metadata": {
        "id": "DUVfMnA0akPQ",
        "colab_type": "code",
        "outputId": "90907193-540f-45d3-eb59-76423e47c4fb",
        "colab": {
          "base_uri": "https://localhost:8080/",
          "height": 731
        }
      },
      "source": [
        "steffensen(lambda x: 545.0*x+4+3333*x**3+7*x**3,0.1,20,.00000001) # exemplo aplicado à função f definida no início deste notebook com iterada inicial e tolerância de erro definidos nos argumentos"
      ],
      "execution_count": 0,
      "outputs": [
        {
          "output_type": "stream",
          "text": [
            "Iterada n.º 0: 0.1\n",
            "Iterada n.º 1: 0.09999518207036494, Erro: 4.817929635067553e-06\n",
            "Iterada n.º 2: 0.0999903638986046, Erro: 4.818171760331835e-06\n",
            "Iterada n.º 3: 0.09998554548468612, Erro: 4.818413918486475e-06\n",
            "Iterada n.º 4: 0.09998072682857656, Erro: 4.818656109559227e-06\n",
            "Iterada n.º 5: 0.09997590793024302, Erro: 4.8188983335362146e-06\n",
            "Iterada n.º 6: 0.09997108878965258, Erro: 4.819140590445192e-06\n",
            "Iterada n.º 7: 0.0999662694067723, Erro: 4.819382880272283e-06\n",
            "Iterada n.º 8: 0.09996144978156926, Erro: 4.819625203045241e-06\n",
            "Iterada n.º 9: 0.0999566299140105, Erro: 4.819867558764068e-06\n",
            "Iterada n.º 10: 0.09995180980406307, Erro: 4.820109947428763e-06\n",
            "Iterada n.º 11: 0.09994698945169402, Erro: 4.820352369053205e-06\n",
            "Iterada n.º 12: 0.09994216885687036, Erro: 4.82059482365127e-06\n",
            "Iterada n.º 13: 0.09993734801955916, Erro: 4.820837311209081e-06\n",
            "Iterada n.º 14: 0.0999325269397274, Erro: 4.8210798317543935e-06\n",
            "Iterada n.º 15: 0.0999277056173421, Erro: 4.821322385301086e-06\n",
            "Iterada n.º 16: 0.09992288405237026, Erro: 4.821564971835279e-06\n",
            "Iterada n.º 17: 0.0999180622447789, Erro: 4.8218075913708525e-06\n",
            "Iterada n.º 18: 0.09991324019453497, Erro: 4.822050243921683e-06\n",
            "Iterada n.º 19: 0.09990841790160547, Erro: 4.822292929501648e-06\n",
            "Iterada n.º 20: 0.09990359536595737, Erro: 4.822535648096871e-06\n"
          ],
          "name": "stdout"
        },
        {
          "output_type": "execute_result",
          "data": {
            "text/plain": [
              "[0.1,\n",
              " 0.09999518207036494,\n",
              " 0.0999903638986046,\n",
              " 0.09998554548468612,\n",
              " 0.09998072682857656,\n",
              " 0.09997590793024302,\n",
              " 0.09997108878965258,\n",
              " 0.0999662694067723,\n",
              " 0.09996144978156926,\n",
              " 0.0999566299140105,\n",
              " 0.09995180980406307,\n",
              " 0.09994698945169402,\n",
              " 0.09994216885687036,\n",
              " 0.09993734801955916,\n",
              " 0.0999325269397274,\n",
              " 0.0999277056173421,\n",
              " 0.09992288405237026,\n",
              " 0.0999180622447789,\n",
              " 0.09991324019453497,\n",
              " 0.09990841790160547,\n",
              " 0.09990359536595737]"
            ]
          },
          "metadata": {
            "tags": []
          },
          "execution_count": 2
        }
      ]
    },
    {
      "cell_type": "markdown",
      "metadata": {
        "id": "uHS_ytBbWYRA",
        "colab_type": "text"
      },
      "source": [
        "## Exercício 2. Cálculo do ângulo de lançamento de uma bola"
      ]
    },
    {
      "cell_type": "markdown",
      "metadata": {
        "id": "bdzcUVIqdozx",
        "colab_type": "text"
      },
      "source": [
        "### **Exercício 2. a)**"
      ]
    },
    {
      "cell_type": "code",
      "metadata": {
        "id": "eOpjFaGFAM0w",
        "colab_type": "code",
        "colab": {}
      },
      "source": [
        "from pylab import *\n",
        "import matplotlib.pyplot as plt\n",
        "from numpy import *"
      ],
      "execution_count": 0,
      "outputs": []
    },
    {
      "cell_type": "markdown",
      "metadata": {
        "id": "nl9zvWRLANVI",
        "colab_type": "text"
      },
      "source": [
        "Seja f(x) uma função que recebe o ângulo de lançamento da bola. Dado que x = 4.7 metros, esta função anula-se quando a altura da bola é igual a 3.05 metros (altura do cesto)."
      ]
    },
    {
      "cell_type": "code",
      "metadata": {
        "id": "eiJDjxlpANtm",
        "colab_type": "code",
        "colab": {}
      },
      "source": [
        "def f(x):\n",
        "    return -3.05+2+4.7*tan(x)-((9.81*4.7*4.7)/(2*8*8*cos(x)*cos(x)))"
      ],
      "execution_count": 0,
      "outputs": []
    },
    {
      "cell_type": "code",
      "metadata": {
        "id": "I9bS7rqOAOAG",
        "colab_type": "code",
        "outputId": "361de608-888a-4dc6-bd11-78919c9dee05",
        "colab": {
          "base_uri": "https://localhost:8080/",
          "height": 269
        }
      },
      "source": [
        "plt.axis((0,pi/2,-5,1)) #Especificação dos limites do eixo das abcissas e do eixo das coordenadas, respetivamente\n",
        "x=linspace(0,pi/2,2000)\n",
        "plt.plot(x,f(x))\n",
        "plt.plot(x,0*x)\n",
        "plt.show() #Exibir os dois gráficos"
      ],
      "execution_count": 0,
      "outputs": [
        {
          "output_type": "display_data",
          "data": {
            "image/png": "[encoded data removed]",
            "text/plain": [
              "<Figure size 432x288 with 1 Axes>"
            ]
          },
          "metadata": {
            "tags": []
          }
        }
      ]
    },
    {
      "cell_type": "markdown",
      "metadata": {
        "id": "2dG6DWtNA1CF",
        "colab_type": "text"
      },
      "source": [
        "Considera-se que os ângulos de lançamento se encontram no intervalo [0, pi/2], visto que um ângulo superior a pi/2 significaria lançar a bola para trás, o que não é consistente com este problema. Com base no gráfico anterior, é possível observar que existem duas soluções para f(x)=0 no intervalo [0, pi/2], pois existem duas interseções desta função com y=0."
      ]
    },
    {
      "cell_type": "code",
      "metadata": {
        "id": "zgrumYN0AO02",
        "colab_type": "code",
        "outputId": "734dd52f-8857-42ed-b481-d849fa768f5d",
        "colab": {
          "base_uri": "https://localhost:8080/",
          "height": 269
        }
      },
      "source": [
        "def derivada_f(x):\n",
        "    return (4.7/((cos(x))**2))-((9.81*4.7*4.7*tan(x))/(2*8*8*cos(x)*cos(x)))\n",
        "plt.axis((0,pi/2,-10,10))\n",
        "\n",
        "plt.plot(x,derivada_f(x))\n",
        "plt.plot(x,0*x)\n",
        "plt.show()"
      ],
      "execution_count": 0,
      "outputs": [
        {
          "output_type": "display_data",
          "data": {
            "image/png": "[encoded data removed]",
            "text/plain": [
              "<Figure size 432x288 with 1 Axes>"
            ]
          },
          "metadata": {
            "tags": []
          }
        }
      ]
    },
    {
      "cell_type": "code",
      "metadata": {
        "id": "Ff_r_pC0AOxk",
        "colab_type": "code",
        "outputId": "688cfda3-023f-4567-c757-73dfc1123e3a",
        "colab": {
          "base_uri": "https://localhost:8080/",
          "height": 34
        }
      },
      "source": [
        "f(0.6)"
      ],
      "execution_count": 0,
      "outputs": [
        {
          "output_type": "execute_result",
          "data": {
            "text/plain": [
              "-0.31994147588786426"
            ]
          },
          "metadata": {
            "tags": []
          },
          "execution_count": 7
        }
      ]
    },
    {
      "cell_type": "code",
      "metadata": {
        "id": "M3NKPv1KAOt6",
        "colab_type": "code",
        "outputId": "1935941f-5209-4589-9c45-996d242c3e8b",
        "colab": {
          "base_uri": "https://localhost:8080/",
          "height": 34
        }
      },
      "source": [
        "f(0.8)"
      ],
      "execution_count": 0,
      "outputs": [
        {
          "output_type": "execute_result",
          "data": {
            "text/plain": [
              "0.30147556262560693"
            ]
          },
          "metadata": {
            "tags": []
          },
          "execution_count": 8
        }
      ]
    },
    {
      "cell_type": "markdown",
      "metadata": {
        "id": "h5kO9j-UA9Bc",
        "colab_type": "text"
      },
      "source": [
        "Como f(0.6)f(0.8)<0 e a derivada de f(x) não se anula neste intervalo, é possível concluir que uma das soluções de f(x)=0 se encontra no intervalo ]0.6,0.8[."
      ]
    },
    {
      "cell_type": "code",
      "metadata": {
        "id": "s9lvE9kZAOp-",
        "colab_type": "code",
        "outputId": "63c458b7-ad6c-42f7-f622-02b07cc559f1",
        "colab": {
          "base_uri": "https://localhost:8080/",
          "height": 34
        }
      },
      "source": [
        "f(1.0)"
      ],
      "execution_count": 0,
      "outputs": [
        {
          "output_type": "execute_result",
          "data": {
            "text/plain": [
              "0.47044238029102026"
            ]
          },
          "metadata": {
            "tags": []
          },
          "execution_count": 9
        }
      ]
    },
    {
      "cell_type": "code",
      "metadata": {
        "id": "xu3ruIyFAOkm",
        "colab_type": "code",
        "outputId": "0ad780e0-4bd5-4fa4-e6f8-e1474ed746a7",
        "colab": {
          "base_uri": "https://localhost:8080/",
          "height": 34
        }
      },
      "source": [
        "f(1.2)"
      ],
      "execution_count": 0,
      "outputs": [
        {
          "output_type": "execute_result",
          "data": {
            "text/plain": [
              "-1.8546489227974998"
            ]
          },
          "metadata": {
            "tags": []
          },
          "execution_count": 10
        }
      ]
    },
    {
      "cell_type": "markdown",
      "metadata": {
        "id": "j_y9bvXxBCPY",
        "colab_type": "text"
      },
      "source": [
        "Como f(1.0)f(1.2)<0 e a derivada de f(x) não se anula neste intervalo, é possível concluir que a outra solução de f(x)=0 se encontra no intervalo ]1.0,1.2[.\n"
      ]
    },
    {
      "cell_type": "markdown",
      "metadata": {
        "id": "43ZInwQzBCfM",
        "colab_type": "text"
      },
      "source": [
        "Para encontrar as soluções de f(x)=0, utilizar-se-á o método de Steffensen sendo f a função f(x), x0 a iterada inicial, M o número máximo de iterações e \"e\" o erro definido."
      ]
    },
    {
      "cell_type": "code",
      "metadata": {
        "id": "sBE-A-75AOfl",
        "colab_type": "code",
        "colab": {}
      },
      "source": [
        "def steffensen(f,x0,M,e):\n",
        "    x=float(x0)\n",
        "\n",
        "    def iteracao(x,f):\n",
        "        return float(x - (f(x))**2.0 / (f(x+f(x)) - f(x)))\n",
        "\n",
        "    c = 1\n",
        "    m = 0\n",
        "    while c:\n",
        "        x0=x\n",
        "        x=iteracao(x,f)\n",
        "        print ('Iteração n.º ' + str(m) + ': ' + str(x) + \", Erro: \" + str(abs(x-x0)))\n",
        "        m+=1\n",
        "        if m==M:\n",
        "            c = 0\n",
        "        if abs(x-x0)<e:\n",
        "            c = 0\n",
        "    return x"
      ],
      "execution_count": 0,
      "outputs": []
    },
    {
      "cell_type": "markdown",
      "metadata": {
        "id": "AVsUnCUSCz9g",
        "colab_type": "text"
      },
      "source": [
        "**Solução de f(x)=0 em ]0.6;0.8[ e respetivo gráfico da trajetória da bola:**"
      ]
    },
    {
      "cell_type": "markdown",
      "metadata": {
        "id": "cLjmPwmYBUBw",
        "colab_type": "text"
      },
      "source": [
        "Para a função f(x), x0=0.3, M=20 e e=0.0000001"
      ]
    },
    {
      "cell_type": "code",
      "metadata": {
        "id": "9DPghOsPBUcT",
        "colab_type": "code",
        "outputId": "5eb88396-4ded-4396-925f-fb3240a09954",
        "colab": {
          "base_uri": "https://localhost:8080/",
          "height": 428
        }
      },
      "source": [
        "steffensen(f,0.3,20,0.000000000001)"
      ],
      "execution_count": 0,
      "outputs": [
        {
          "output_type": "stream",
          "text": [
            "Iteração n.º 0: 0.40358194878839293, Erro: 0.10358194878839294\n",
            "Iteração n.º 1: 0.5810822390843385, Erro: 0.1775002902959456\n",
            "Iteração n.º 2: 0.6809592226052681, Erro: 0.09987698352092955\n",
            "Iteração n.º 3: 0.6948725775000485, Erro: 0.013913354894780405\n",
            "Iteração n.º 4: 0.6953703738657859, Erro: 0.0004977963657374351\n",
            "Iteração n.º 5: 0.6953710931462715, Erro: 7.192804856170909e-07\n",
            "Iteração n.º 6: 0.6953710931477798, Erro: 1.5082379789532752e-12\n",
            "Iteração n.º 7: nan, Erro: nan\n",
            "Iteração n.º 8: nan, Erro: nan\n",
            "Iteração n.º 9: nan, Erro: nan\n",
            "Iteração n.º 10: nan, Erro: nan\n",
            "Iteração n.º 11: nan, Erro: nan\n",
            "Iteração n.º 12: nan, Erro: nan\n",
            "Iteração n.º 13: nan, Erro: nan\n",
            "Iteração n.º 14: nan, Erro: nan\n",
            "Iteração n.º 15: nan, Erro: nan\n",
            "Iteração n.º 16: nan, Erro: nan\n",
            "Iteração n.º 17: nan, Erro: nan\n",
            "Iteração n.º 18: nan, Erro: nan\n",
            "Iteração n.º 19: nan, Erro: nan\n"
          ],
          "name": "stdout"
        },
        {
          "output_type": "stream",
          "text": [
            "/usr/local/lib/python3.6/dist-packages/ipykernel_launcher.py:5: RuntimeWarning: invalid value encountered in double_scalars\n",
            "  \"\"\"\n"
          ],
          "name": "stderr"
        },
        {
          "output_type": "execute_result",
          "data": {
            "text/plain": [
              "nan"
            ]
          },
          "metadata": {
            "tags": []
          },
          "execution_count": 12
        }
      ]
    },
    {
      "cell_type": "code",
      "metadata": {
        "id": "UY9cD8sQBUzL",
        "colab_type": "code",
        "colab": {}
      },
      "source": [
        "x7=0.6953710931477798"
      ],
      "execution_count": 0,
      "outputs": []
    },
    {
      "cell_type": "markdown",
      "metadata": {
        "id": "-pA_X06HBq_1",
        "colab_type": "text"
      },
      "source": [
        "Seja h(x) a função que relaciona a altura com a distância percorrida pela bola com as seguintes condições iniciais:\n",
        "- A altura no instante do lançamento é igual a 2;\n",
        "- O ângulo no instante do lançamento é igual à última iterada calculada pelo método de Steffensen;\n",
        "- A magnitude da velocidade com que a bola é lançada é igual a 8 m/s.\n",
        "    "
      ]
    },
    {
      "cell_type": "code",
      "metadata": {
        "id": "nStHYR6VBVIp",
        "colab_type": "code",
        "outputId": "c82708ce-ed23-4a7f-c497-b521b0a1da24",
        "colab": {
          "base_uri": "https://localhost:8080/",
          "height": 296
        }
      },
      "source": [
        "def h(x):\n",
        "    return 2+x*tan(x7)-((9.81*x**2)/(2*8*8*cos(x7)*cos(x7)))\n",
        "x = linspace(0,4.7,1000)\n",
        "\n",
        "plt.title('Trajetória da bola') #Título do gráfico\n",
        "plt.xlabel('Distância horizontal entre a bola e o jogador (m)') #Nome do eixo das abcissas\n",
        "plt.ylabel('Altura da bola (m)') #Nome do eixo das ordenadas\n",
        "plt.axis((0,4.7,0,5)) #Especificação dos limites do eixo das abcissas e do eixo das coordenadas, respetivamente\n",
        "\n",
        "plt.yticks(arange(0,5.1,0.5)) #para controlar o número e o espaçamento de marcas nos eixos (step=0.5)\n",
        "plt.xticks(arange(0,4.7,0.5))\n",
        "plt.grid(linestyle=':', linewidth=0.5) #Grelha a linha pontilhada\n",
        "\n",
        "plt.plot(x,h(x)) #Criar o gráfico\n",
        "plt.show() #Exibir o gráfico"
      ],
      "execution_count": 0,
      "outputs": [
        {
          "output_type": "display_data",
          "data": {
            "image/png": "[encoded data removed]",
            "text/plain": [
              "<Figure size 432x288 with 1 Axes>"
            ]
          },
          "metadata": {
            "tags": []
          }
        }
      ]
    },
    {
      "cell_type": "markdown",
      "metadata": {
        "id": "q4OVZWG3Bwe0",
        "colab_type": "text"
      },
      "source": [
        "**Solução de f(x)=0 em ]1.0;1.2[ e respetivo gráfico da trajetória da bola:**"
      ]
    },
    {
      "cell_type": "code",
      "metadata": {
        "id": "QyYx8rz3BVCh",
        "colab_type": "code",
        "outputId": "56381486-584d-4ee1-d8a9-784d42564ee3",
        "colab": {
          "base_uri": "https://localhost:8080/",
          "height": 119
        }
      },
      "source": [
        "steffensen(f,1.1,20,0.00000000001)"
      ],
      "execution_count": 0,
      "outputs": [
        {
          "output_type": "stream",
          "text": [
            "Iteração n.º 0: 1.093921779497973, Erro: 0.00607822050202711\n",
            "Iteração n.º 1: 1.095139486280463, Erro: 0.0012177067824901133\n",
            "Iteração n.º 2: 1.095219981638653, Erro: 8.04953581898804e-05\n",
            "Iteração n.º 3: 1.095220305165953, Erro: 3.2352730006124375e-07\n",
            "Iteração n.º 4: 1.095220305171149, Erro: 5.196065799850658e-12\n"
          ],
          "name": "stdout"
        },
        {
          "output_type": "execute_result",
          "data": {
            "text/plain": [
              "1.095220305171149"
            ]
          },
          "metadata": {
            "tags": []
          },
          "execution_count": 15
        }
      ]
    },
    {
      "cell_type": "code",
      "metadata": {
        "id": "J3_xn9q6BU_E",
        "colab_type": "code",
        "colab": {}
      },
      "source": [
        "x4=1.095220305171149"
      ],
      "execution_count": 0,
      "outputs": []
    },
    {
      "cell_type": "code",
      "metadata": {
        "id": "8t8zw_CrB5Bq",
        "colab_type": "code",
        "outputId": "5a4aeb9b-914a-4f1f-cd5f-1e55bccacd36",
        "colab": {
          "base_uri": "https://localhost:8080/",
          "height": 296
        }
      },
      "source": [
        "def h(x):\n",
        "    return 2+x*tan(x4)-((9.81*x**2)/(2*8*8*cos(x4)*cos(x4)))\n",
        "\n",
        "plt.title('Trajetória da bola')\n",
        "plt.xlabel('Distância horizontal entre a bola e o jogador (m)')\n",
        "plt.ylabel('Altura da bola (m)')\n",
        "plt.axis((0,4.7,0,5))\n",
        "\n",
        "plt.yticks(arange(0,5.1,0.5)) \n",
        "plt.xticks(arange(0,4.7,0.5))\n",
        "plt.grid(linestyle=':', linewidth=0.5)\n",
        "\n",
        "plt.plot(x,h(x))\n",
        "plt.show()"
      ],
      "execution_count": 0,
      "outputs": [
        {
          "output_type": "display_data",
          "data": {
            "image/png": "[encoded data removed]",
            "text/plain": [
              "<Figure size 432x288 with 1 Axes>"
            ]
          },
          "metadata": {
            "tags": []
          }
        }
      ]
    },
    {
      "cell_type": "markdown",
      "metadata": {
        "id": "jK-GNHlZB7vN",
        "colab_type": "text"
      },
      "source": [
        "###**Exercício 2. b)** "
      ]
    },
    {
      "cell_type": "markdown",
      "metadata": {
        "id": "rDQIv5F8B7_2",
        "colab_type": "text"
      },
      "source": [
        "Para verificar que a solução no intervalo ]0.6;0.8[ está de acordo com a estimativa |z - xn+1| ≤ |xn+1 − xn|, foram tomados os valores z=x7 e n=5."
      ]
    },
    {
      "cell_type": "code",
      "metadata": {
        "id": "FCLQkFwrB493",
        "colab_type": "code",
        "colab": {}
      },
      "source": [
        "x5 = 0.6953710931462714\n",
        "x6 = 0.6953710931477795\n",
        "x7 = 0.6953710931477798"
      ],
      "execution_count": 0,
      "outputs": []
    },
    {
      "cell_type": "code",
      "metadata": {
        "id": "Tq_j4HEfB44Y",
        "colab_type": "code",
        "outputId": "325e059b-1c24-463c-c711-f26af80b9f48",
        "colab": {
          "base_uri": "https://localhost:8080/",
          "height": 34
        }
      },
      "source": [
        "x7-x6"
      ],
      "execution_count": 0,
      "outputs": [
        {
          "output_type": "execute_result",
          "data": {
            "text/plain": [
              "3.3306690738754696e-16"
            ]
          },
          "metadata": {
            "tags": []
          },
          "execution_count": 19
        }
      ]
    },
    {
      "cell_type": "code",
      "metadata": {
        "id": "jK1JeCoRCbDl",
        "colab_type": "code",
        "outputId": "80f1d7d8-7670-47c0-d080-8b446dca086c",
        "colab": {
          "base_uri": "https://localhost:8080/",
          "height": 34
        }
      },
      "source": [
        "x6-x5"
      ],
      "execution_count": 0,
      "outputs": [
        {
          "output_type": "execute_result",
          "data": {
            "text/plain": [
              "1.5080159343483501e-12"
            ]
          },
          "metadata": {
            "tags": []
          },
          "execution_count": 20
        }
      ]
    },
    {
      "cell_type": "markdown",
      "metadata": {
        "id": "GX-5w3d6CXq2",
        "colab_type": "text"
      },
      "source": [
        "Verifica-se então que |z - xn+1| ≤ |xn+1 − xn| no intervalo ]0.6,0.8[ para z=x7 e n=5, conforme pretendido."
      ]
    },
    {
      "cell_type": "markdown",
      "metadata": {
        "id": "r0hjNvALCYAA",
        "colab_type": "text"
      },
      "source": [
        "Para verificar que a solução no intervalo ]1.0;1.2[ está de acordo com a estimativa |z - xn+1| ≤ |xn+1 − xn|, foram tomados os valores z=x4 e n=2."
      ]
    },
    {
      "cell_type": "code",
      "metadata": {
        "id": "qbz1QSz6Cl6E",
        "colab_type": "code",
        "colab": {}
      },
      "source": [
        "x2 = 1.095219981638653\n",
        "x3 = 1.095220305165953\n",
        "x4 = 1.095220305171149"
      ],
      "execution_count": 0,
      "outputs": []
    },
    {
      "cell_type": "code",
      "metadata": {
        "id": "vGpVqZ1aCmFF",
        "colab_type": "code",
        "outputId": "9045abd0-cf8d-4f90-9197-2b4a0627310f",
        "colab": {
          "base_uri": "https://localhost:8080/",
          "height": 34
        }
      },
      "source": [
        "x4-x3"
      ],
      "execution_count": 0,
      "outputs": [
        {
          "output_type": "execute_result",
          "data": {
            "text/plain": [
              "5.196065799850658e-12"
            ]
          },
          "metadata": {
            "tags": []
          },
          "execution_count": 22
        }
      ]
    },
    {
      "cell_type": "code",
      "metadata": {
        "id": "MQJXUGylCpEE",
        "colab_type": "code",
        "outputId": "6bfaabf5-6fce-4ace-8118-cee3cfd5b17c",
        "colab": {
          "base_uri": "https://localhost:8080/",
          "height": 34
        }
      },
      "source": [
        "x3-x2"
      ],
      "execution_count": 0,
      "outputs": [
        {
          "output_type": "execute_result",
          "data": {
            "text/plain": [
              "3.2352730006124375e-07"
            ]
          },
          "metadata": {
            "tags": []
          },
          "execution_count": 23
        }
      ]
    },
    {
      "cell_type": "markdown",
      "metadata": {
        "id": "YhLEGPDoCish",
        "colab_type": "text"
      },
      "source": [
        "Verifica-se então que |z - xn+1| ≤ |xn+1 − xn| no intervalo ]1.0,1.2[ para z=x4 e n=2, conforme pretendido."
      ]
    },
    {
      "cell_type": "markdown",
      "metadata": {
        "id": "HkWn5Non0PK2",
        "colab_type": "text"
      },
      "source": [
        "# **Parte II**"
      ]
    },
    {
      "cell_type": "markdown",
      "metadata": {
        "id": "9ePJAZTE3zQk",
        "colab_type": "text"
      },
      "source": [
        "## Exercício 1. ##"
      ]
    },
    {
      "cell_type": "markdown",
      "metadata": {
        "id": "-00BjAfR0WXr",
        "colab_type": "text"
      },
      "source": [
        "### **Exercicio 1. b)** "
      ]
    },
    {
      "cell_type": "code",
      "metadata": {
        "id": "ZYrkJQoc1k8c",
        "colab_type": "code",
        "colab": {}
      },
      "source": [
        "def trap(f,a,b,N):\n",
        "  h=(b-a)/N\n",
        "  return ((h/2)*(f(a)+f(b)+2*sum([f(a+i*h) for i in range(1,N)])))"
      ],
      "execution_count": 0,
      "outputs": []
    },
    {
      "cell_type": "code",
      "metadata": {
        "id": "1tk58PI32ov-",
        "colab_type": "code",
        "outputId": "9f07fa8c-1304-488e-a953-c5cb7ca54718",
        "colab": {
          "base_uri": "https://localhost:8080/",
          "height": 34
        }
      },
      "source": [
        "import math\n",
        "trap(lambda x:math.e**(x) ,-1,1,4)"
      ],
      "execution_count": 0,
      "outputs": [
        {
          "output_type": "execute_result",
          "data": {
            "text/plain": [
              "2.3991662826140026"
            ]
          },
          "metadata": {
            "tags": []
          },
          "execution_count": 25
        }
      ]
    },
    {
      "cell_type": "markdown",
      "metadata": {
        "id": "3FOSWxXpgjdx",
        "colab_type": "text"
      },
      "source": [
        "### **Exercício 1. c)** \n",
        "Método de Romberg"
      ]
    },
    {
      "cell_type": "code",
      "metadata": {
        "id": "T_aynLHR-9CJ",
        "colab_type": "code",
        "colab": {}
      },
      "source": [
        "def romberg(f, a, b, N, e):\n",
        "  r=[[\" \" for j in range(0, N+1)] for k in range(0,N+1)] # cria uma lista com n+1 sublistas com n+1 elementos ' ' para guardar os valores Rj,k na forma r[k][j]\n",
        "  r[0]=[trap(f, a, b, 2**j) for j in range(0, N+1)] # calcula R para k = 0 e todos os j, estes ficam na primeira lista\n",
        "  for k in range(1,N+1):\n",
        "    for j in range(k,N+1):\n",
        "      r[k][j]=((4**k) * r[k-1][j] - r[k-1][j-1])/(4**k-1) # cálculo de uma nova interado do método\n",
        "    if abs(r[k][k]-r[k-1][k-1])<e: # cálculo do erro\n",
        "        return r[k][k] # devolve o último valor calculado\n",
        "        break # sai do ciclo for\n",
        "  return r[k][k] # caso o primeiro critério de paragem referente ao erro não se tenha verificado o último valor calculado é devolvido"
      ],
      "execution_count": 0,
      "outputs": []
    },
    {
      "cell_type": "code",
      "metadata": {
        "id": "6P_3TCgm0bKA",
        "colab_type": "code",
        "outputId": "3c827ef2-3655-4dac-809a-7b9ef27dc766",
        "colab": {
          "base_uri": "https://localhost:8080/",
          "height": 34
        }
      },
      "source": [
        "import math\n",
        "romberg(lambda x: math.e**(x**2),0,2,4,10**-1)"
      ],
      "execution_count": 0,
      "outputs": [
        {
          "output_type": "execute_result",
          "data": {
            "text/plain": [
              "16.452917565112486"
            ]
          },
          "metadata": {
            "tags": []
          },
          "execution_count": 27
        }
      ]
    },
    {
      "cell_type": "markdown",
      "metadata": {
        "id": "MqfsjuaB33R8",
        "colab_type": "text"
      },
      "source": [
        "## Exercício 2. ##\n",
        "Aplicação: Cálculo de π usando integração numérica e cálculos aritméticos elementares"
      ]
    },
    {
      "cell_type": "markdown",
      "metadata": {
        "id": "528eptoao8qk",
        "colab_type": "text"
      },
      "source": [
        "### **Exercício 2. a)** "
      ]
    },
    {
      "cell_type": "code",
      "metadata": {
        "id": "62LehRyNIUTh",
        "colab_type": "code",
        "colab": {}
      },
      "source": [
        "def rombergpi(f, a, b, N): #esboço inicial\n",
        "  r=[[0 for j in range(0, N+1)] for k in range(0, N+1)] #r[k][j]\n",
        "  r[0]=[trap(f, a, b,  2**j) for j in range(0, N+1)]\n",
        "  for k in range(1, N+1):\n",
        "    for j in range(k, N+1):\n",
        "      #r[0][j]=trap(f,a,b,2**j)\n",
        "      r[k][j]=((4**k) * r[k-1][j] - r[k-1][j-1])/(4**k-1)\n",
        "  return r[N][N]"
      ],
      "execution_count": 0,
      "outputs": []
    },
    {
      "cell_type": "code",
      "metadata": {
        "id": "B6x-Sb05HQNq",
        "colab_type": "code",
        "outputId": "22727586-bee6-4929-8348-ed51e4face37",
        "colab": {
          "base_uri": "https://localhost:8080/",
          "height": 34
        }
      },
      "source": [
        "4*rombergpi(lambda x: 1/(1+x**2),0,1,16) #cálculo de pi"
      ],
      "execution_count": 0,
      "outputs": [
        {
          "output_type": "execute_result",
          "data": {
            "text/plain": [
              "3.1415926535897936"
            ]
          },
          "metadata": {
            "tags": []
          },
          "execution_count": 29
        }
      ]
    },
    {
      "cell_type": "code",
      "metadata": {
        "id": "Yr7iDlgHr_LR",
        "colab_type": "code",
        "outputId": "71316a90-c141-4055-adbd-e953acc1d8de",
        "colab": {
          "base_uri": "https://localhost:8080/",
          "height": 326
        }
      },
      "source": [
        "import math\n",
        "import numpy as np\n",
        "\n",
        "from decimal import * # valores com mais precisão\n",
        "ctx = Context(prec=20) #precisão de 20 dígitos\n",
        "\n",
        "\n",
        "getcontext().prec = 28\n",
        "def rombergpi(f,a,b,N): # dados para a tabela do pi calculado\n",
        "  r=[[0 for j in range(0,N+1)] for k in range(0,N+1)] #r[k][j]\n",
        "  r[0]=[Decimal(trap(f,a,b,2**j)) for j in range(0,N+1)]\n",
        "  print (\"k/j\")\n",
        "  for k in range(1,N+1):\n",
        "    print(\"K = \" + str(k) + \" - \", end = ' ')\n",
        "    for j in range(k,N+1):\n",
        "      #r[0][j]=trap(f,a,b,2**j)\n",
        "      r[k][j]=((Decimal(4**k)) * r[k-1][j] - r[k-1][j-1])/(Decimal(4**k-1))\n",
        "      print(r[k][j], end = ' ')\n",
        "      #print (str(r[k][j]) + \" \" )\n",
        "    print(\" \")\n",
        "  #return map(int.__sub__, 4*r, [[math.pi if j>=k else 0 for j in range(0,N+1)] for k in range(0,N+1)])\n",
        "  return [[float(4*r[k][j]) if j>=k else 0 for j in range(0,N+1)] for k in range(0,N+1)] # calcula o desvio em relação ao pi\n",
        "\n",
        "np.savetxt('valorespi.txt', rombergpi(lambda x: 1/(1+x**2), 0, 1, 16))\n",
        "\n",
        "#rombergpir(lambda x: 1/(1+x**2),0,1,16)\n",
        "\n",
        "def rombergpi2a(f, a, b, N): #cálculo dos erros absolutos\n",
        "  r=[[0 for j in range(0, N+1)] for k in range(0, N+1)] #r[k][j]\n",
        "  r[0]=[Decimal(trap(f, a, b, 2**j)) for j in range(0, N+1)]\n",
        "  for k in range(1, N+1):\n",
        "    for j in range(k, N+1):\n",
        "      #r[0][j]=trap(f,a,b,2**j)\n",
        "      r[k][j]=((Decimal(4**k)) * r[k-1][j] - r[k-1][j-1])/(Decimal(4**k-1))\n",
        "      #print (str(r[k][j]) + \" \" )\n",
        "  #return map(int.__sub__, 4*r, [[math.pi if j>=k else 0 for j in range(0,N+1)] for k in range(0,N+1)])\n",
        "  return [[float(abs(4*r[k][j] - Decimal(math.pi))) if j>=k else 0 for j in range(0, N+1)] for k in range(0, N+1)] # calcula o desvio em relação ao pi\n",
        "\n",
        "np.savetxt('erros.txt', rombergpi2a(lambda x: 1/(1+x**2), 0, 1, 16))"
      ],
      "execution_count": 0,
      "outputs": [
        {
          "output_type": "stream",
          "text": [
            "k/j\n",
            "K = 1 -  0.7833333333333333629392806567 0.7853921568627451425352129867 0.785398125614676663926635077 0.7853981628062055575512090397 0.7853981633882090770034286227 0.7853981633973038019765529803 0.7853981633974459475311391543 0.7853981633974483160069250213 0.7853981633974483160069250213 0.7853981633974481679771884047 0.7853981633974483530143591757 0.785398163397448464036661638 0.7853981633974482789994908673 0.7853981633974483160069250213 0.7853981633974481679771884047 0.7853981633974483530143591753  \n",
            "K = 2 -  0.7855294117647059278416084753 0.785398523531472098686063216 0.7853981652856408171261806373 0.7853981634270093116335765947 0.7853981633979101169747612707 0.7853981633974554239014448993 0.785398163397448473905310746 0.7853981633974483160069250213 0.7853981633974481581085392973 0.7853981633974483653501705607 0.7853981633974484714381484687 0.7853981633974482666636794827 0.785398163397448318474087298 0.7853981633974481581085392973 0.78539816339744836535017056  \n",
            "K = 3 -  0.7853964459404683871121656721 0.7853981595991990507522142471 0.7853981633975072242448051019 0.7853981633974482249960499163 0.7853981633974482065510747983 0.7853981633974483635879117911 0.7853981633974483135006014383 0.7853981633974481556022157144 0.7853981633974483686397202632 0.7853981633974484731220846260 0.7853981633974482634132910860 0.7853981633974483192964747237 0.7853981633974481555630544084 0.7853981633974483686397202625  \n",
            "K = 4 -  0.7853981663194293670802144376 0.7853981634124025504153642820 0.7853981633974479936264469549 0.7853981633974482064787415627 0.7853981633974483642037425243 0.7853981633974483133041806133 0.7853981633974481549830063588 0.7853981633974483694751614576 0.7853981633974484735318193882 0.7853981633974482625909036604 0.7853981633974483195156244635 0.7853981633974481549209625643 0.7853981633974483694753150306  \n",
            "K = 5 -  0.7853981634095608819728766475 0.7853981633974333752913649242 0.7853981633974482066868083218 0.7853981633974483643579214109 0.7853981633974483132544254208 0.7853981633974481548282447026 0.7853981633974483696848312084 0.7853981633974484736335365513 0.7853981633974482623847053067 0.7853981633974483195712693518 0.7853981633974481547600684666 0.7853981633974483696850455804  \n",
            "K = 6 -  0.7853981633974304137512717590 0.7853981633974482103086387109 0.7853981633974483643964247353 0.7853981633974483132419459348 0.7853981633974481547895569907 0.7853981633974483697372992393 0.7853981633974484736589208505 0.7853981633974482623331182904 0.7853981633974483195852343248 0.7853981633974481547198215311 0.7853981633974483697375303123  \n",
            "K = 7 -  0.7853981633974482113949206720 0.7853981633974483644058300812 0.7853981633974483132388235232 0.7853981633974481547798852341 0.7853981633974483697504194091 0.7853981633974484736652641097 0.7853981633974482623202191998 0.7853981633974483195887289300 0.7853981633974481547097583312 0.7853981633974483697506547531  \n",
            "K = 8 -  0.7853981633974483644081648780 0.7853981633974483132380427648 0.7853981633974481547774673057 0.7853981633974483697536996490 0.7853981633974484736668497485 0.7853981633974482623169942812 0.7853981633974483195896027915 0.7853981633974481547072424393 0.7853981633974483697539360668  \n",
            "K = 9 -  0.7853981633974483132378475653 0.7853981633974481547768628245 0.7853981633974483697545197213 0.7853981633974484736672461473 0.7853981633974482623161880428 0.7853981633974483195898212701 0.7853981633974481547066134606 0.7853981633974483697547564081  \n",
            "K = 10 -  0.7853981633974481547767117043 0.7853981633974483697547247401 0.7853981633974484736673452464 0.7853981633974482623159864826 0.7853981633974483195898758905 0.7853981633974481547064562156 0.7853981633974483697549614942  \n",
            "K = 11 -  0.7853981633974483697547759947 0.7853981633974484736673700210 0.7853981633974482623159360926 0.7853981633974483195898895457 0.7853981633974481547064169043 0.7853981633974483697550127659  \n",
            "K = 12 -  0.7853981633974484736673762147 0.7853981633974482623159234950 0.7853981633974483195898929590 0.7853981633974481547064070765 0.7853981633974483697550255838  \n",
            "K = 13 -  0.7853981633974482623159203456 0.7853981633974483195898938124 0.7853981633974481547064046196 0.7853981633974483697550287882  \n",
            "K = 14 -  0.7853981633974483195898940257 0.7853981633974481547064040054 0.7853981633974483697550295895  \n",
            "K = 15 -  0.7853981633974481547064038518 0.7853981633974483697550297898  \n",
            "K = 16 -  0.7853981633974483697550298399  \n"
          ],
          "name": "stdout"
        }
      ]
    },
    {
      "cell_type": "code",
      "metadata": {
        "id": "9FO6tEbKxPiI",
        "colab_type": "code",
        "outputId": "d956c8e0-ebcf-41ff-c746-6bdbc5c7e331",
        "colab": {
          "base_uri": "https://localhost:8080/",
          "height": 34
        }
      },
      "source": [
        "from google.colab import files\n",
        "#files.download('your typical text file or what ever.txt')\n",
        "!dir\n",
        "\n",
        "files.download('valorespi.txt')\n",
        "\n",
        "files.download('erros.txt')"
      ],
      "execution_count": 0,
      "outputs": [
        {
          "output_type": "stream",
          "text": [
            "erros.txt  sample_data\tvalorespi.txt\n"
          ],
          "name": "stdout"
        }
      ]
    },
    {
      "cell_type": "markdown",
      "metadata": {
        "id": "BpTwBSfmMDcv",
        "colab_type": "text"
      },
      "source": [
        "### **Exercício 2. b) Regressão linear** "
      ]
    },
    {
      "cell_type": "code",
      "metadata": {
        "id": "xXPsPoGiJKFG",
        "colab_type": "code",
        "colab": {}
      },
      "source": [
        "import math\n",
        "\n",
        "from decimal import * # valores com mais precisão\n",
        "ctx = Context(prec=20) #precisão de 20 dígitos\n",
        "\n",
        "\n",
        "getcontext().prec = 28\n",
        "def rombergpir(f,a,b,N):\n",
        "  r=[[0 for j in range(0,N+1)] for k in range(0,N+1)] #r[k][j]\n",
        "  r[0]=[Decimal(trap(f,a,b,2**j)) for j in range(0,N+1)]\n",
        "  for k in range(1,N+1):\n",
        "    for j in range(k,N+1):\n",
        "      #r[0][j]=trap(f,a,b,2**j)\n",
        "      r[k][j]=((Decimal(4**k)) * r[k-1][j] - r[k-1][j-1])/(Decimal(4**k-1))\n",
        "      #print (str(r[k][j]) + \" \" )\n",
        "  #return map(int.__sub__, 4*r, [[math.pi if j>=k else 0 for j in range(0,N+1)] for k in range(0,N+1)])\n",
        "  return [[float(abs(4*r[k][j] - Decimal(math.pi)).ln(ctx)) if j>=k else 0 for j in range(0,N+1)] for k in range(0,N+1)] # calcula o desvio em relação ao pi\n"
      ],
      "execution_count": 0,
      "outputs": []
    },
    {
      "cell_type": "code",
      "metadata": {
        "id": "LX4DOZHyJxmU",
        "colab_type": "code",
        "colab": {}
      },
      "source": [
        "import numpy as np  \n",
        "import matplotlib.pyplot as plt\n",
        "from math import *\n",
        "\n",
        "a=32\n",
        "\n",
        "plt.subplots_adjust(hspace=0.7)#left=None, bottom=None, right=None, top=None, wspace=None, hspace=None\n",
        "\n",
        "\n",
        "fit = np.polyfit([log(1/(2**j)) for j in range(a+1)], rombergpir(lambda x: 1/(1+x**2),0,1,a)[0], 1)\n",
        "\n",
        "plt.subplot(2,1,1)\n",
        "plt.title('Gráfico do Método dos Trapézios')\n",
        "plt.xlabel('log(1/(2^j))')\n",
        "plt.ylabel('log(|erro|)')\n",
        "x=[log(1/(2**j)) for j in range(a+1)]\n",
        "y=rombergpir(lambda x: 1/(1+x**2),0,1,a)[0]\n",
        "plt.plot(x,y, 'o', linewidth=1, label='Pontos Trapezoidal')\n",
        "\n",
        "\n",
        "xr = np.linspace(-11,0,2) #np.linspace(0,10,100)\n",
        "print(fit)\n",
        "yr=fit[0]*xr+fit[1]\n",
        "plt.plot(xr,yr, label='y = ' + str(fit[0]) + \"*x + \" + str(fit[1]))\n",
        "\n",
        "plt.legend(bbox_to_anchor=(0.80, 0.95), loc = 'best')\n",
        "\n",
        "\n",
        "fit = np.polyfit([log(1/(2**j)) for j in range(1,a+1)], rombergpir(lambda x: 1/(1+x**2),0,1,a)[1][1:], 1)\n",
        "\n",
        "plt.subplot(2,1,2)\n",
        "plt.title('Gráfico do Método de Simpson')\n",
        "plt.xlabel('log(1/(2^j))')\n",
        "plt.ylabel('log(|erro|)')\n",
        "\n",
        "x=[log(1/(2**j)) for j in range(a+1)]\n",
        "y=rombergpir(lambda x: 1/(1+x**2),0,1,a)[1]\n",
        "plt.plot(x,y, 'o', linewidth=1, label='Pontos Simpson')\n",
        "\n",
        "xr = np.linspace(-11,0,2) #np.linspace(0,10,100)\n",
        "print(fit)\n",
        "yr=fit[0]*xr+fit[1]\n",
        "plt.plot(xr,yr, label='y = ' + str(fit[0]) + \"*x + \" + str(fit[1]))\n",
        "\n",
        "\n",
        "plt.legend(bbox_to_anchor=(0.80, 0.95), loc = 'best')\n",
        "plt.savefig('Erros.png')\n",
        "plt.show()"
      ],
      "execution_count": 0,
      "outputs": []
    },
    {
      "cell_type": "code",
      "metadata": {
        "id": "UgJxtYvCA_SS",
        "colab_type": "code",
        "colab": {}
      },
      "source": [
        "!dir\n",
        "from google.colab import files\n",
        "files.download('Erros.png')"
      ],
      "execution_count": 0,
      "outputs": []
    },
    {
      "cell_type": "code",
      "metadata": {
        "id": "tAO3ZbvuOPjF",
        "colab_type": "code",
        "colab": {}
      },
      "source": [
        ""
      ],
      "execution_count": 0,
      "outputs": []
    },
    {
      "cell_type": "code",
      "metadata": {
        "id": "2kYjf-ZLOPqZ",
        "colab_type": "code",
        "colab": {}
      },
      "source": [
        "def romberg1(f,a,b,n,e): \n",
        "    # f: função a ser integrada\n",
        "    # a,b: extremos de integração\n",
        "    # e: tolerância de erro\n",
        "    #n: ordem máxima do método de Romberg ??\n",
        "    \n",
        "    R=[[0 for colunas in range(0,n+1)] for linhas in range(0,n+1)]\n",
        "    for j in range(0,n+1):\n",
        "        m=2**j\n",
        "        R[j][0]=trap(f,a,b,m)\n",
        "        for k in range(1,j+1):\n",
        "          R[j][k] = (1/(4**k-1))*((4**k)*R[j][k-1] - R[j-1][k-1])\n",
        "          if abs(R[k][k]-R[k-1][k-1])<e:\n",
        "            break\n",
        "    return R[j][k]"
      ],
      "execution_count": 0,
      "outputs": []
    },
    {
      "cell_type": "code",
      "metadata": {
        "id": "HDp_7kVQR7Um",
        "colab_type": "code",
        "colab": {}
      },
      "source": [
        "romberg1(lambda x: math.e**(x**2),0,2,3,10**-6)"
      ],
      "execution_count": 0,
      "outputs": []
    },
    {
      "cell_type": "code",
      "metadata": {
        "id": "VA-OeNWBc824",
        "colab_type": "code",
        "colab": {}
      },
      "source": [
        "\n",
        "romberg1(lambda x: e**(-1/x),1,2,15,10**-14)"
      ],
      "execution_count": 0,
      "outputs": []
    },
    {
      "cell_type": "code",
      "metadata": {
        "id": "wijJWByAdtN2",
        "colab_type": "code",
        "colab": {}
      },
      "source": [
        ""
      ],
      "execution_count": 0,
      "outputs": []
    },
    {
      "cell_type": "code",
      "metadata": {
        "colab_type": "code",
        "id": "fDyZt22hdumo",
        "colab": {}
      },
      "source": [
        "import numpy as np\n",
        "def romberg_matriz(f,a,b,n,e): \n",
        "    # f: função a ser integrada\n",
        "    # a,b: extremos de integração\n",
        "    # e: tolerância de erro\n",
        "    #n: ordem máxima do método de Romberg ??\n",
        "    R=np.zeros((n+1,n+1),float)\n",
        "    #R=[[0 for colunas in range(0,n)] for linhas in range(0,n)]\n",
        "    for j in range(0,n+1):\n",
        "        m=2**j\n",
        "        R[j][0]=trap(f,a,b,m)\n",
        "        for k in range(1,j+1):\n",
        "          R[j][k] = (1/(4**k-1))*((4**k)*R[j][k-1] - R[j-1][k-1])\n",
        "          if abs(R[k][k]-R[k-1][k-1])<e:\n",
        "            break\n",
        "    return R"
      ],
      "execution_count": 0,
      "outputs": []
    },
    {
      "cell_type": "code",
      "metadata": {
        "id": "zJ7QafsPP1We",
        "colab_type": "code",
        "colab": {}
      },
      "source": [
        "romberg_matriz(lambda x: math.e**(x**2),0,2,3,10**-6)"
      ],
      "execution_count": 0,
      "outputs": []
    },
    {
      "cell_type": "code",
      "metadata": {
        "colab_type": "code",
        "id": "9vy7ZlIAd7zE",
        "colab": {}
      },
      "source": [
        "romberg_matriz(lambda x: e**(-1/x),1,2,4,10**-14)"
      ],
      "execution_count": 0,
      "outputs": []
    },
    {
      "cell_type": "markdown",
      "metadata": {
        "colab_type": "text",
        "id": "cwJ2_ZtDOXZU"
      },
      "source": [
        "##Exercicio 3. "
      ]
    },
    {
      "cell_type": "code",
      "metadata": {
        "id": "lrQMvX209Nhe",
        "colab_type": "code",
        "colab": {}
      },
      "source": [
        "def g(t):\n",
        "    def f(x):\n",
        "        return (e**(-t/x))*(1/x)\n",
        "    return f"
      ],
      "execution_count": 0,
      "outputs": []
    },
    {
      "cell_type": "code",
      "metadata": {
        "id": "EiVshgSE9b7_",
        "colab_type": "code",
        "colab": {}
      },
      "source": [
        "def total(g,a,b,n,e):\n",
        "    t=10\n",
        "    w=[]\n",
        "    while t<511:\n",
        "        w=w+[0.34473795*(1+0.05*romberg1(g(t),a,b,n,e))]\n",
        "        t=t+1\n",
        "    return w"
      ],
      "execution_count": 0,
      "outputs": []
    },
    {
      "cell_type": "code",
      "metadata": {
        "id": "bJtaTYghCJJG",
        "colab_type": "code",
        "outputId": "93886684-c47c-45d7-ceda-dd371f144cc9",
        "colab": {
          "base_uri": "https://localhost:8080/",
          "height": 34
        }
      },
      "source": [
        "romberg(g(10),0.05,500,10,10**-14)"
      ],
      "execution_count": 0,
      "outputs": [
        {
          "output_type": "execute_result",
          "data": {
            "text/plain": [
              "3.354696187808522"
            ]
          },
          "metadata": {
            "tags": []
          },
          "execution_count": 31
        }
      ]
    },
    {
      "cell_type": "code",
      "metadata": {
        "id": "ywvWEXjtOCvL",
        "colab_type": "code",
        "outputId": "2d539926-ad91-4a8a-f75f-a0e7646159d9",
        "colab": {
          "base_uri": "https://localhost:8080/",
          "height": 295
        }
      },
      "source": [
        "from numpy import *\n",
        "t = linspace(10,510,1000)\n",
        "\n",
        "plt.title('Cálculo do módulo de relaxação de um material') #Título do gráfico\n",
        "plt.xlabel('Tempo (s)') #Nome do eixo das abcissas\n",
        "plt.ylabel('Módulo de relaxação (MPa*s)') #Nome do eixo das ordenadas\n",
        "plt.axis((10,510,0.34,0.41)) #Especificação dos limites do eixo das abcissas e do eixo das coordenadas, respetivamente\n",
        "\n",
        "plt.yticks(np.arange(0.34,0.42,0.01)) #para controlar o número e o espaçamento de marcas nos eixos (step=0.5)\n",
        "plt.xticks(np.arange(0,511,50))\n",
        "plt.grid(linestyle=':', linewidth=0.5) #Grelha a linha pontilhada\n",
        "\n",
        "plt.plot(list(range(10,511)),total(g,0.05,500,10,10**-14))\n",
        "plt.show()"
      ],
      "execution_count": 0,
      "outputs": [
        {
          "output_type": "display_data",
          "data": {
            "image/png": "[encoded data removed]",
            "text/plain": [
              "<Figure size 432x288 with 1 Axes>"
            ]
          },
          "metadata": {
            "tags": []
          }
        }
      ]
    },
    {
      "cell_type": "code",
      "metadata": {
        "id": "thSABwjf_KmI",
        "colab_type": "code",
        "colab": {}
      },
      "source": [
        ""
      ],
      "execution_count": 0,
      "outputs": []
    },
    {
      "cell_type": "markdown",
      "metadata": {
        "id": "3xWkVMfD4At7",
        "colab_type": "text"
      },
      "source": [
        "# Parte III #"
      ]
    },
    {
      "cell_type": "markdown",
      "metadata": {
        "id": "R7ui7dwv4R0E",
        "colab_type": "text"
      },
      "source": [
        "## Exercício 1 ##"
      ]
    },
    {
      "cell_type": "markdown",
      "metadata": {
        "id": "xvRYTuQP4Uwj",
        "colab_type": "text"
      },
      "source": [
        "## Exercício 2 ##"
      ]
    }
  ]
}